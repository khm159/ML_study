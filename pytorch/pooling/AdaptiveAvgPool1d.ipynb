{
  "nbformat": 4,
  "nbformat_minor": 0,
  "metadata": {
    "colab": {
      "name": "AdaptiveAvgPool1d.ipynb",
      "provenance": [],
      "collapsed_sections": []
    },
    "kernelspec": {
      "name": "python3",
      "display_name": "Python 3"
    }
  },
  "cells": [
    {
      "cell_type": "code",
      "metadata": {
        "id": "BVFDzkMmtJcL",
        "outputId": "b9f6f8c6-eb0a-40bf-ece2-8683e771fcf5",
        "colab": {
          "base_uri": "https://localhost:8080/",
          "height": 485
        }
      },
      "source": [
        "import torch\n",
        "import torch.nn as nn\n",
        "\n",
        "class TestNet(nn.Module):\n",
        "    def __init__(self):\n",
        "        super(TestNet, self).__init__()\n",
        "        self.avgpool = nn.AdaptiveAvgPool1d(1)\n",
        "\n",
        "    def forward(self,x):\n",
        "        print(x)\n",
        "        x = self.avgpool(x)\n",
        "        print(x)\n",
        "        print(x.size())\n",
        "        return x\n",
        "\n",
        "def test():\n",
        "    x = torch.Tensor([[\n",
        "        [1,2,3,4,5,6],\n",
        "        [7,8,9,1,2,3],\n",
        "        [1,2,3,4,5,6],\n",
        "        [1,2,3,4,5,6],\n",
        "        [1,2,3,4,5,6],\n",
        "        [1,2,3,4,5,6],\n",
        "        [7,8,9,1,2,3],\n",
        "        [7,8,9,1,2,3]]]\n",
        "        )\n",
        "    print(x.size())\n",
        "    net = TestNet()\n",
        "    y = net(x)\n",
        "    return y\n",
        "\n",
        "test()"
      ],
      "execution_count": 5,
      "outputs": [
        {
          "output_type": "stream",
          "text": [
            "torch.Size([1, 8, 6])\n",
            "tensor([[[1., 2., 3., 4., 5., 6.],\n",
            "         [7., 8., 9., 1., 2., 3.],\n",
            "         [1., 2., 3., 4., 5., 6.],\n",
            "         [1., 2., 3., 4., 5., 6.],\n",
            "         [1., 2., 3., 4., 5., 6.],\n",
            "         [1., 2., 3., 4., 5., 6.],\n",
            "         [7., 8., 9., 1., 2., 3.],\n",
            "         [7., 8., 9., 1., 2., 3.]]])\n",
            "tensor([[[3.5000],\n",
            "         [5.0000],\n",
            "         [3.5000],\n",
            "         [3.5000],\n",
            "         [3.5000],\n",
            "         [3.5000],\n",
            "         [5.0000],\n",
            "         [5.0000]]])\n",
            "torch.Size([1, 8, 1])\n"
          ],
          "name": "stdout"
        },
        {
          "output_type": "execute_result",
          "data": {
            "text/plain": [
              "tensor([[[3.5000],\n",
              "         [5.0000],\n",
              "         [3.5000],\n",
              "         [3.5000],\n",
              "         [3.5000],\n",
              "         [3.5000],\n",
              "         [5.0000],\n",
              "         [5.0000]]])"
            ]
          },
          "metadata": {
            "tags": []
          },
          "execution_count": 5
        }
      ]
    }
  ]
}